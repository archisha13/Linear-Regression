{
  "nbformat": 4,
  "nbformat_minor": 0,
  "metadata": {
    "colab": {
      "name": "LINEAR REGRESSION.ipynb",
      "provenance": [],
      "collapsed_sections": [
        "x3jKQLsIrpRi"
      ]
    },
    "kernelspec": {
      "name": "python3",
      "display_name": "Python 3"
    },
    "language_info": {
      "name": "python"
    }
  },
  "cells": [
    {
      "cell_type": "markdown",
      "source": [
        "\n",
        "ARCHISHA SRIVASTAVA\n",
        "\n",
        "\n",
        "\n",
        "\n",
        "\n",
        "\n",
        "\n",
        "---\n",
        "\n"
      ],
      "metadata": {
        "id": "CuzMRPJPRH_O"
      }
    },
    {
      "cell_type": "markdown",
      "source": [
        "# AIM:\n",
        "Finding if there is a relation between INCOME and LIFE SATISFACTION"
      ],
      "metadata": {
        "id": "9HG1DM1hpYLB"
      }
    },
    {
      "cell_type": "code",
      "execution_count": null,
      "metadata": {
        "id": "HFKeD9RCK19s",
        "colab": {
          "base_uri": "https://localhost:8080/"
        },
        "outputId": "b0b069e7-4b33-4acf-f611-ea16f862ff6a"
      },
      "outputs": [
        {
          "output_type": "stream",
          "name": "stderr",
          "text": [
            "/usr/local/lib/python3.7/dist-packages/statsmodels/tools/_testing.py:19: FutureWarning: pandas.util.testing is deprecated. Use the functions in the public API at pandas.testing instead.\n",
            "  import pandas.util.testing as tm\n"
          ]
        }
      ],
      "source": [
        "import pandas as pd\n",
        "import matplotlib.pyplot as plt\n",
        "import numpy as np\n",
        "import statsmodels.api as sm\n",
        "from sklearn.linear_model import LinearRegression\n",
        "import warnings\n",
        "warnings.filterwarnings(\"ignore\")"
      ]
    },
    {
      "cell_type": "code",
      "source": [
        "df=pd.read_csv('/content/LAB_3.csv')#importing csv file as dataframe and reading it\n",
        "df.head(10)"
      ],
      "metadata": {
        "id": "7fcy2CahP0yf",
        "colab": {
          "base_uri": "https://localhost:8080/",
          "height": 363
        },
        "outputId": "f10aea0f-33e1-49c6-feaa-6c44405aab95"
      },
      "execution_count": null,
      "outputs": [
        {
          "output_type": "execute_result",
          "data": {
            "text/plain": [
              "   Income  Life Satisfaction\n",
              "0  427064                7.3\n",
              "1  308325                7.1\n",
              "2  386006                6.9\n",
              "3  423849                7.4\n",
              "4  100967                6.5\n",
              "5      ..                6.3\n",
              "6      ..                6.7\n",
              "7  118637                7.6\n",
              "8  159373                5.7\n",
              "9  200827                7.6"
            ],
            "text/html": [
              "\n",
              "  <div id=\"df-30893935-9079-4828-8e5c-7637f8eb282e\">\n",
              "    <div class=\"colab-df-container\">\n",
              "      <div>\n",
              "<style scoped>\n",
              "    .dataframe tbody tr th:only-of-type {\n",
              "        vertical-align: middle;\n",
              "    }\n",
              "\n",
              "    .dataframe tbody tr th {\n",
              "        vertical-align: top;\n",
              "    }\n",
              "\n",
              "    .dataframe thead th {\n",
              "        text-align: right;\n",
              "    }\n",
              "</style>\n",
              "<table border=\"1\" class=\"dataframe\">\n",
              "  <thead>\n",
              "    <tr style=\"text-align: right;\">\n",
              "      <th></th>\n",
              "      <th>Income</th>\n",
              "      <th>Life Satisfaction</th>\n",
              "    </tr>\n",
              "  </thead>\n",
              "  <tbody>\n",
              "    <tr>\n",
              "      <th>0</th>\n",
              "      <td>427064</td>\n",
              "      <td>7.3</td>\n",
              "    </tr>\n",
              "    <tr>\n",
              "      <th>1</th>\n",
              "      <td>308325</td>\n",
              "      <td>7.1</td>\n",
              "    </tr>\n",
              "    <tr>\n",
              "      <th>2</th>\n",
              "      <td>386006</td>\n",
              "      <td>6.9</td>\n",
              "    </tr>\n",
              "    <tr>\n",
              "      <th>3</th>\n",
              "      <td>423849</td>\n",
              "      <td>7.4</td>\n",
              "    </tr>\n",
              "    <tr>\n",
              "      <th>4</th>\n",
              "      <td>100967</td>\n",
              "      <td>6.5</td>\n",
              "    </tr>\n",
              "    <tr>\n",
              "      <th>5</th>\n",
              "      <td>..</td>\n",
              "      <td>6.3</td>\n",
              "    </tr>\n",
              "    <tr>\n",
              "      <th>6</th>\n",
              "      <td>..</td>\n",
              "      <td>6.7</td>\n",
              "    </tr>\n",
              "    <tr>\n",
              "      <th>7</th>\n",
              "      <td>118637</td>\n",
              "      <td>7.6</td>\n",
              "    </tr>\n",
              "    <tr>\n",
              "      <th>8</th>\n",
              "      <td>159373</td>\n",
              "      <td>5.7</td>\n",
              "    </tr>\n",
              "    <tr>\n",
              "      <th>9</th>\n",
              "      <td>200827</td>\n",
              "      <td>7.6</td>\n",
              "    </tr>\n",
              "  </tbody>\n",
              "</table>\n",
              "</div>\n",
              "      <button class=\"colab-df-convert\" onclick=\"convertToInteractive('df-30893935-9079-4828-8e5c-7637f8eb282e')\"\n",
              "              title=\"Convert this dataframe to an interactive table.\"\n",
              "              style=\"display:none;\">\n",
              "        \n",
              "  <svg xmlns=\"http://www.w3.org/2000/svg\" height=\"24px\"viewBox=\"0 0 24 24\"\n",
              "       width=\"24px\">\n",
              "    <path d=\"M0 0h24v24H0V0z\" fill=\"none\"/>\n",
              "    <path d=\"M18.56 5.44l.94 2.06.94-2.06 2.06-.94-2.06-.94-.94-2.06-.94 2.06-2.06.94zm-11 1L8.5 8.5l.94-2.06 2.06-.94-2.06-.94L8.5 2.5l-.94 2.06-2.06.94zm10 10l.94 2.06.94-2.06 2.06-.94-2.06-.94-.94-2.06-.94 2.06-2.06.94z\"/><path d=\"M17.41 7.96l-1.37-1.37c-.4-.4-.92-.59-1.43-.59-.52 0-1.04.2-1.43.59L10.3 9.45l-7.72 7.72c-.78.78-.78 2.05 0 2.83L4 21.41c.39.39.9.59 1.41.59.51 0 1.02-.2 1.41-.59l7.78-7.78 2.81-2.81c.8-.78.8-2.07 0-2.86zM5.41 20L4 18.59l7.72-7.72 1.47 1.35L5.41 20z\"/>\n",
              "  </svg>\n",
              "      </button>\n",
              "      \n",
              "  <style>\n",
              "    .colab-df-container {\n",
              "      display:flex;\n",
              "      flex-wrap:wrap;\n",
              "      gap: 12px;\n",
              "    }\n",
              "\n",
              "    .colab-df-convert {\n",
              "      background-color: #E8F0FE;\n",
              "      border: none;\n",
              "      border-radius: 50%;\n",
              "      cursor: pointer;\n",
              "      display: none;\n",
              "      fill: #1967D2;\n",
              "      height: 32px;\n",
              "      padding: 0 0 0 0;\n",
              "      width: 32px;\n",
              "    }\n",
              "\n",
              "    .colab-df-convert:hover {\n",
              "      background-color: #E2EBFA;\n",
              "      box-shadow: 0px 1px 2px rgba(60, 64, 67, 0.3), 0px 1px 3px 1px rgba(60, 64, 67, 0.15);\n",
              "      fill: #174EA6;\n",
              "    }\n",
              "\n",
              "    [theme=dark] .colab-df-convert {\n",
              "      background-color: #3B4455;\n",
              "      fill: #D2E3FC;\n",
              "    }\n",
              "\n",
              "    [theme=dark] .colab-df-convert:hover {\n",
              "      background-color: #434B5C;\n",
              "      box-shadow: 0px 1px 3px 1px rgba(0, 0, 0, 0.15);\n",
              "      filter: drop-shadow(0px 1px 2px rgba(0, 0, 0, 0.3));\n",
              "      fill: #FFFFFF;\n",
              "    }\n",
              "  </style>\n",
              "\n",
              "      <script>\n",
              "        const buttonEl =\n",
              "          document.querySelector('#df-30893935-9079-4828-8e5c-7637f8eb282e button.colab-df-convert');\n",
              "        buttonEl.style.display =\n",
              "          google.colab.kernel.accessAllowed ? 'block' : 'none';\n",
              "\n",
              "        async function convertToInteractive(key) {\n",
              "          const element = document.querySelector('#df-30893935-9079-4828-8e5c-7637f8eb282e');\n",
              "          const dataTable =\n",
              "            await google.colab.kernel.invokeFunction('convertToInteractive',\n",
              "                                                     [key], {});\n",
              "          if (!dataTable) return;\n",
              "\n",
              "          const docLinkHtml = 'Like what you see? Visit the ' +\n",
              "            '<a target=\"_blank\" href=https://colab.research.google.com/notebooks/data_table.ipynb>data table notebook</a>'\n",
              "            + ' to learn more about interactive tables.';\n",
              "          element.innerHTML = '';\n",
              "          dataTable['output_type'] = 'display_data';\n",
              "          await google.colab.output.renderOutput(dataTable, element);\n",
              "          const docLink = document.createElement('div');\n",
              "          docLink.innerHTML = docLinkHtml;\n",
              "          element.appendChild(docLink);\n",
              "        }\n",
              "      </script>\n",
              "    </div>\n",
              "  </div>\n",
              "  "
            ]
          },
          "metadata": {},
          "execution_count": 2
        }
      ]
    },
    {
      "cell_type": "code",
      "source": [
        "df.axes#checking the structure \n",
        "#41 rows and 2 columns\n",
        "#Index is of datatype object"
      ],
      "metadata": {
        "colab": {
          "base_uri": "https://localhost:8080/"
        },
        "id": "2sahzhyVPi1t",
        "outputId": "f9905b94-79f1-4204-e0f7-de7fcf98770e"
      },
      "execution_count": null,
      "outputs": [
        {
          "output_type": "execute_result",
          "data": {
            "text/plain": [
              "[RangeIndex(start=0, stop=41, step=1),\n",
              " Index(['Income', 'Life Satisfaction'], dtype='object')]"
            ]
          },
          "metadata": {},
          "execution_count": 3
        }
      ]
    },
    {
      "cell_type": "code",
      "source": [
        "df.dtypes\n",
        "#checking datatype"
      ],
      "metadata": {
        "colab": {
          "base_uri": "https://localhost:8080/"
        },
        "id": "H4hnhYAwWzWT",
        "outputId": "8730fa21-2828-4289-f611-98b8621c494e"
      },
      "execution_count": null,
      "outputs": [
        {
          "output_type": "execute_result",
          "data": {
            "text/plain": [
              "Income                object\n",
              "Life Satisfaction    float64\n",
              "dtype: object"
            ]
          },
          "metadata": {},
          "execution_count": 4
        }
      ]
    },
    {
      "cell_type": "markdown",
      "source": [
        "We can notice that Income values are present as an object"
      ],
      "metadata": {
        "id": "pGmYRgl6xyK9"
      }
    },
    {
      "cell_type": "code",
      "source": [
        "df.info()"
      ],
      "metadata": {
        "colab": {
          "base_uri": "https://localhost:8080/"
        },
        "id": "4pTgxu0OqGYR",
        "outputId": "8eb7c547-4eaf-468c-ec68-33fe11749ee8"
      },
      "execution_count": null,
      "outputs": [
        {
          "output_type": "stream",
          "name": "stdout",
          "text": [
            "<class 'pandas.core.frame.DataFrame'>\n",
            "RangeIndex: 41 entries, 0 to 40\n",
            "Data columns (total 2 columns):\n",
            " #   Column             Non-Null Count  Dtype  \n",
            "---  ------             --------------  -----  \n",
            " 0   Income             41 non-null     object \n",
            " 1   Life Satisfaction  41 non-null     float64\n",
            "dtypes: float64(1), object(1)\n",
            "memory usage: 784.0+ bytes\n"
          ]
        }
      ]
    },
    {
      "cell_type": "markdown",
      "source": [
        "Since there are only 41 rows checking string , null or nan values mannually in the data"
      ],
      "metadata": {
        "id": "pIedFuXPqpZc"
      }
    },
    {
      "cell_type": "code",
      "source": [
        "df['Income']"
      ],
      "metadata": {
        "colab": {
          "base_uri": "https://localhost:8080/"
        },
        "id": "6IO1DdjLqZaU",
        "outputId": "49766fac-2cbe-42cb-c784-ef47fb277d32"
      },
      "execution_count": null,
      "outputs": [
        {
          "output_type": "execute_result",
          "data": {
            "text/plain": [
              "0     427064\n",
              "1     308325\n",
              "2     386006\n",
              "3     423849\n",
              "4     100967\n",
              "5         ..\n",
              "6         ..\n",
              "7     118637\n",
              "8     159373\n",
              "9     200827\n",
              "10    280653\n",
              "11    259667\n",
              "12    150134\n",
              "13    104458\n",
              "14        ..\n",
              "15    217130\n",
              "16        ..\n",
              "17    279889\n",
              "18    305878\n",
              "19    285980\n",
              "20     70160\n",
              "21        ..\n",
              "22    769053\n",
              "23        ..\n",
              "24    157824\n",
              "25    388514\n",
              "26    228936\n",
              "27    210991\n",
              "28    232666\n",
              "29    119696\n",
              "30    203044\n",
              "31    373548\n",
              "32        ..\n",
              "33        ..\n",
              "34        ..\n",
              "35    548392\n",
              "36    632100\n",
              "37    408376\n",
              "38        ..\n",
              "39        ..\n",
              "40        ..\n",
              "Name: Income, dtype: object"
            ]
          },
          "metadata": {},
          "execution_count": 6
        }
      ]
    },
    {
      "cell_type": "markdown",
      "source": [
        "Replacing string values present in income column by mean 0 "
      ],
      "metadata": {
        "id": "_nsnPaopyjzb"
      }
    },
    {
      "cell_type": "code",
      "source": [
        "df[\"Income\"]= df[\"Income\"].replace(\"..\", float(0))"
      ],
      "metadata": {
        "id": "lKY_qJpats02"
      },
      "execution_count": null,
      "outputs": []
    },
    {
      "cell_type": "code",
      "source": [
        "#Displaying data after conversion\n",
        "df[\"Income\"].head(7)"
      ],
      "metadata": {
        "colab": {
          "base_uri": "https://localhost:8080/"
        },
        "id": "qduzzFlKv2YH",
        "outputId": "9e1b9322-d914-4695-a949-c8a5fffeb0e9"
      },
      "execution_count": null,
      "outputs": [
        {
          "output_type": "execute_result",
          "data": {
            "text/plain": [
              "0    427064\n",
              "1    308325\n",
              "2    386006\n",
              "3    423849\n",
              "4    100967\n",
              "5       0.0\n",
              "6       0.0\n",
              "Name: Income, dtype: object"
            ]
          },
          "metadata": {},
          "execution_count": 8
        }
      ]
    },
    {
      "cell_type": "markdown",
      "source": [
        "We can still see that the datatype of Income is object"
      ],
      "metadata": {
        "id": "5yD5h2Eiq_X6"
      }
    },
    {
      "cell_type": "markdown",
      "source": [
        "So we will convert the datatype of income from object to float to calculate mean "
      ],
      "metadata": {
        "id": "8ky25TWXyHkd"
      }
    },
    {
      "cell_type": "code",
      "source": [
        "df[\"Income\"]=df[\"Income\"].astype(\"float\")#converting datatype of income"
      ],
      "metadata": {
        "id": "Emo4wgWzv9sW"
      },
      "execution_count": null,
      "outputs": []
    },
    {
      "cell_type": "markdown",
      "source": [
        "Calculating mean income"
      ],
      "metadata": {
        "id": "D3UIOkTjyfRU"
      }
    },
    {
      "cell_type": "code",
      "source": [
        "#Mean of Income where Income is not equal to 0.0\n",
        "avgIncome=df[df[\"Income\"] != 0.0].mean()"
      ],
      "metadata": {
        "id": "gGku5StcRntn"
      },
      "execution_count": null,
      "outputs": []
    },
    {
      "cell_type": "code",
      "source": [
        "print(avgIncome)"
      ],
      "metadata": {
        "colab": {
          "base_uri": "https://localhost:8080/"
        },
        "id": "_5Qhze_0RvjJ",
        "outputId": "4b785e31-277e-4e31-fad5-95d336f5034b"
      },
      "execution_count": null,
      "outputs": [
        {
          "output_type": "stream",
          "name": "stdout",
          "text": [
            "Income               288004.724138\n",
            "Life Satisfaction         6.572414\n",
            "dtype: float64\n"
          ]
        }
      ]
    },
    {
      "cell_type": "code",
      "source": [
        "avgIncome[0]#mean income"
      ],
      "metadata": {
        "colab": {
          "base_uri": "https://localhost:8080/"
        },
        "id": "YW2ou4PEwYH2",
        "outputId": "2ee2049f-1f1d-47b9-d469-b59ef8559413"
      },
      "execution_count": null,
      "outputs": [
        {
          "output_type": "execute_result",
          "data": {
            "text/plain": [
              "288004.724137931"
            ]
          },
          "metadata": {},
          "execution_count": 12
        }
      ]
    },
    {
      "cell_type": "markdown",
      "source": [
        "Replacing the 0 values with mean income to get more accurate results"
      ],
      "metadata": {
        "id": "Q7cqJ-2UyTYt"
      }
    },
    {
      "cell_type": "code",
      "source": [
        "df[\"Income\"]= df[\"Income\"].replace(0.0, avgIncome[0])\n",
        "df.head(10)"
      ],
      "metadata": {
        "id": "dVVBIakPP1Jv",
        "colab": {
          "base_uri": "https://localhost:8080/",
          "height": 363
        },
        "outputId": "7d448637-d916-48ef-da41-2efa46a7f3fc"
      },
      "execution_count": null,
      "outputs": [
        {
          "output_type": "execute_result",
          "data": {
            "text/plain": [
              "          Income  Life Satisfaction\n",
              "0  427064.000000                7.3\n",
              "1  308325.000000                7.1\n",
              "2  386006.000000                6.9\n",
              "3  423849.000000                7.4\n",
              "4  100967.000000                6.5\n",
              "5  288004.724138                6.3\n",
              "6  288004.724138                6.7\n",
              "7  118637.000000                7.6\n",
              "8  159373.000000                5.7\n",
              "9  200827.000000                7.6"
            ],
            "text/html": [
              "\n",
              "  <div id=\"df-e0a78daf-0bdd-4ee8-b3c2-807e2f4597bd\">\n",
              "    <div class=\"colab-df-container\">\n",
              "      <div>\n",
              "<style scoped>\n",
              "    .dataframe tbody tr th:only-of-type {\n",
              "        vertical-align: middle;\n",
              "    }\n",
              "\n",
              "    .dataframe tbody tr th {\n",
              "        vertical-align: top;\n",
              "    }\n",
              "\n",
              "    .dataframe thead th {\n",
              "        text-align: right;\n",
              "    }\n",
              "</style>\n",
              "<table border=\"1\" class=\"dataframe\">\n",
              "  <thead>\n",
              "    <tr style=\"text-align: right;\">\n",
              "      <th></th>\n",
              "      <th>Income</th>\n",
              "      <th>Life Satisfaction</th>\n",
              "    </tr>\n",
              "  </thead>\n",
              "  <tbody>\n",
              "    <tr>\n",
              "      <th>0</th>\n",
              "      <td>427064.000000</td>\n",
              "      <td>7.3</td>\n",
              "    </tr>\n",
              "    <tr>\n",
              "      <th>1</th>\n",
              "      <td>308325.000000</td>\n",
              "      <td>7.1</td>\n",
              "    </tr>\n",
              "    <tr>\n",
              "      <th>2</th>\n",
              "      <td>386006.000000</td>\n",
              "      <td>6.9</td>\n",
              "    </tr>\n",
              "    <tr>\n",
              "      <th>3</th>\n",
              "      <td>423849.000000</td>\n",
              "      <td>7.4</td>\n",
              "    </tr>\n",
              "    <tr>\n",
              "      <th>4</th>\n",
              "      <td>100967.000000</td>\n",
              "      <td>6.5</td>\n",
              "    </tr>\n",
              "    <tr>\n",
              "      <th>5</th>\n",
              "      <td>288004.724138</td>\n",
              "      <td>6.3</td>\n",
              "    </tr>\n",
              "    <tr>\n",
              "      <th>6</th>\n",
              "      <td>288004.724138</td>\n",
              "      <td>6.7</td>\n",
              "    </tr>\n",
              "    <tr>\n",
              "      <th>7</th>\n",
              "      <td>118637.000000</td>\n",
              "      <td>7.6</td>\n",
              "    </tr>\n",
              "    <tr>\n",
              "      <th>8</th>\n",
              "      <td>159373.000000</td>\n",
              "      <td>5.7</td>\n",
              "    </tr>\n",
              "    <tr>\n",
              "      <th>9</th>\n",
              "      <td>200827.000000</td>\n",
              "      <td>7.6</td>\n",
              "    </tr>\n",
              "  </tbody>\n",
              "</table>\n",
              "</div>\n",
              "      <button class=\"colab-df-convert\" onclick=\"convertToInteractive('df-e0a78daf-0bdd-4ee8-b3c2-807e2f4597bd')\"\n",
              "              title=\"Convert this dataframe to an interactive table.\"\n",
              "              style=\"display:none;\">\n",
              "        \n",
              "  <svg xmlns=\"http://www.w3.org/2000/svg\" height=\"24px\"viewBox=\"0 0 24 24\"\n",
              "       width=\"24px\">\n",
              "    <path d=\"M0 0h24v24H0V0z\" fill=\"none\"/>\n",
              "    <path d=\"M18.56 5.44l.94 2.06.94-2.06 2.06-.94-2.06-.94-.94-2.06-.94 2.06-2.06.94zm-11 1L8.5 8.5l.94-2.06 2.06-.94-2.06-.94L8.5 2.5l-.94 2.06-2.06.94zm10 10l.94 2.06.94-2.06 2.06-.94-2.06-.94-.94-2.06-.94 2.06-2.06.94z\"/><path d=\"M17.41 7.96l-1.37-1.37c-.4-.4-.92-.59-1.43-.59-.52 0-1.04.2-1.43.59L10.3 9.45l-7.72 7.72c-.78.78-.78 2.05 0 2.83L4 21.41c.39.39.9.59 1.41.59.51 0 1.02-.2 1.41-.59l7.78-7.78 2.81-2.81c.8-.78.8-2.07 0-2.86zM5.41 20L4 18.59l7.72-7.72 1.47 1.35L5.41 20z\"/>\n",
              "  </svg>\n",
              "      </button>\n",
              "      \n",
              "  <style>\n",
              "    .colab-df-container {\n",
              "      display:flex;\n",
              "      flex-wrap:wrap;\n",
              "      gap: 12px;\n",
              "    }\n",
              "\n",
              "    .colab-df-convert {\n",
              "      background-color: #E8F0FE;\n",
              "      border: none;\n",
              "      border-radius: 50%;\n",
              "      cursor: pointer;\n",
              "      display: none;\n",
              "      fill: #1967D2;\n",
              "      height: 32px;\n",
              "      padding: 0 0 0 0;\n",
              "      width: 32px;\n",
              "    }\n",
              "\n",
              "    .colab-df-convert:hover {\n",
              "      background-color: #E2EBFA;\n",
              "      box-shadow: 0px 1px 2px rgba(60, 64, 67, 0.3), 0px 1px 3px 1px rgba(60, 64, 67, 0.15);\n",
              "      fill: #174EA6;\n",
              "    }\n",
              "\n",
              "    [theme=dark] .colab-df-convert {\n",
              "      background-color: #3B4455;\n",
              "      fill: #D2E3FC;\n",
              "    }\n",
              "\n",
              "    [theme=dark] .colab-df-convert:hover {\n",
              "      background-color: #434B5C;\n",
              "      box-shadow: 0px 1px 3px 1px rgba(0, 0, 0, 0.15);\n",
              "      filter: drop-shadow(0px 1px 2px rgba(0, 0, 0, 0.3));\n",
              "      fill: #FFFFFF;\n",
              "    }\n",
              "  </style>\n",
              "\n",
              "      <script>\n",
              "        const buttonEl =\n",
              "          document.querySelector('#df-e0a78daf-0bdd-4ee8-b3c2-807e2f4597bd button.colab-df-convert');\n",
              "        buttonEl.style.display =\n",
              "          google.colab.kernel.accessAllowed ? 'block' : 'none';\n",
              "\n",
              "        async function convertToInteractive(key) {\n",
              "          const element = document.querySelector('#df-e0a78daf-0bdd-4ee8-b3c2-807e2f4597bd');\n",
              "          const dataTable =\n",
              "            await google.colab.kernel.invokeFunction('convertToInteractive',\n",
              "                                                     [key], {});\n",
              "          if (!dataTable) return;\n",
              "\n",
              "          const docLinkHtml = 'Like what you see? Visit the ' +\n",
              "            '<a target=\"_blank\" href=https://colab.research.google.com/notebooks/data_table.ipynb>data table notebook</a>'\n",
              "            + ' to learn more about interactive tables.';\n",
              "          element.innerHTML = '';\n",
              "          dataTable['output_type'] = 'display_data';\n",
              "          await google.colab.output.renderOutput(dataTable, element);\n",
              "          const docLink = document.createElement('div');\n",
              "          docLink.innerHTML = docLinkHtml;\n",
              "          element.appendChild(docLink);\n",
              "        }\n",
              "      </script>\n",
              "    </div>\n",
              "  </div>\n",
              "  "
            ]
          },
          "metadata": {},
          "execution_count": 13
        }
      ]
    },
    {
      "cell_type": "markdown",
      "source": [
        "Renaming the columns "
      ],
      "metadata": {
        "id": "m2VQ_4_WzWhd"
      }
    },
    {
      "cell_type": "code",
      "source": [
        "df = df.rename({'Income': 'X', 'Life Satisfaction': 'Y'}, axis=1)"
      ],
      "metadata": {
        "id": "E_IxdyaKb0Fr"
      },
      "execution_count": null,
      "outputs": []
    },
    {
      "cell_type": "code",
      "source": [
        "df.columns"
      ],
      "metadata": {
        "colab": {
          "base_uri": "https://localhost:8080/"
        },
        "id": "UOnQ_DnzcJpK",
        "outputId": "be5b75ba-4cd8-4ee9-bcc7-2e3655979ecf"
      },
      "execution_count": null,
      "outputs": [
        {
          "output_type": "execute_result",
          "data": {
            "text/plain": [
              "Index(['X', 'Y'], dtype='object')"
            ]
          },
          "metadata": {},
          "execution_count": 15
        }
      ]
    },
    {
      "cell_type": "code",
      "source": [
        "x=df[['X']]#independent variale\n",
        "y=df[['Y']]#dependent variable"
      ],
      "metadata": {
        "id": "vaqtWij4P1Lp"
      },
      "execution_count": null,
      "outputs": []
    },
    {
      "cell_type": "code",
      "source": [
        "#Developing a linear regression model.\n",
        "#Naming this model as \"model\"\n",
        "model= LinearRegression()\n",
        " #Fitting the model to our data\n",
        "model.fit(x,y)"
      ],
      "metadata": {
        "id": "9vQkgmGpP1PQ",
        "colab": {
          "base_uri": "https://localhost:8080/"
        },
        "outputId": "5681df1d-d350-474f-daf5-767d729cefed"
      },
      "execution_count": null,
      "outputs": [
        {
          "output_type": "execute_result",
          "data": {
            "text/plain": [
              "LinearRegression()"
            ]
          },
          "metadata": {},
          "execution_count": 17
        }
      ]
    },
    {
      "cell_type": "code",
      "source": [
        "#Obtain the r_sqr value\n",
        "print(\"r_squared : \", model.score(x,y))"
      ],
      "metadata": {
        "colab": {
          "base_uri": "https://localhost:8080/"
        },
        "id": "Rz4IWCS3_D1C",
        "outputId": "524ebf3e-7338-4357-f7a0-91e26f16e056"
      },
      "execution_count": null,
      "outputs": [
        {
          "output_type": "stream",
          "name": "stdout",
          "text": [
            "r_squared :  0.057582775796690466\n"
          ]
        }
      ]
    },
    {
      "cell_type": "code",
      "source": [
        "#Obtain the intercept and the coefficient\n",
        "b0= model.intercept_\n",
        "b1= model.coef_\n",
        "print(\"b0=\",b0,\"\\n\",\"b1=\",b1)\n",
        "#(y_i ) ̂=b_0+b_1 x \n",
        "print(\" Regression line is y_est= {} + {}*x\".format(b0,b1))"
      ],
      "metadata": {
        "colab": {
          "base_uri": "https://localhost:8080/"
        },
        "id": "q9IMBvs7_Dti",
        "outputId": "dbc1600f-bb72-43cf-941c-2ffe863b1585"
      },
      "execution_count": null,
      "outputs": [
        {
          "output_type": "stream",
          "name": "stdout",
          "text": [
            "b0= [6.16085137] \n",
            " b1= [[1.29614185e-06]]\n",
            " Regression line is y_est= [6.16085137] + [[1.29614185e-06]]*x\n"
          ]
        }
      ]
    },
    {
      "cell_type": "code",
      "source": [
        "#Estimated value of y using the regression model\n",
        "yest= model.predict(x)"
      ],
      "metadata": {
        "id": "supyLW_s_Drb"
      },
      "execution_count": null,
      "outputs": []
    },
    {
      "cell_type": "code",
      "source": [
        "df.head(5)"
      ],
      "metadata": {
        "colab": {
          "base_uri": "https://localhost:8080/",
          "height": 206
        },
        "id": "Kf0gAHL0eqLK",
        "outputId": "ce82fae3-7b27-470a-8207-aabe1ae3bb40"
      },
      "execution_count": null,
      "outputs": [
        {
          "output_type": "execute_result",
          "data": {
            "text/plain": [
              "          X    Y\n",
              "0  427064.0  7.3\n",
              "1  308325.0  7.1\n",
              "2  386006.0  6.9\n",
              "3  423849.0  7.4\n",
              "4  100967.0  6.5"
            ],
            "text/html": [
              "\n",
              "  <div id=\"df-fd323e17-2eac-43f2-919d-30e8cff867cc\">\n",
              "    <div class=\"colab-df-container\">\n",
              "      <div>\n",
              "<style scoped>\n",
              "    .dataframe tbody tr th:only-of-type {\n",
              "        vertical-align: middle;\n",
              "    }\n",
              "\n",
              "    .dataframe tbody tr th {\n",
              "        vertical-align: top;\n",
              "    }\n",
              "\n",
              "    .dataframe thead th {\n",
              "        text-align: right;\n",
              "    }\n",
              "</style>\n",
              "<table border=\"1\" class=\"dataframe\">\n",
              "  <thead>\n",
              "    <tr style=\"text-align: right;\">\n",
              "      <th></th>\n",
              "      <th>X</th>\n",
              "      <th>Y</th>\n",
              "    </tr>\n",
              "  </thead>\n",
              "  <tbody>\n",
              "    <tr>\n",
              "      <th>0</th>\n",
              "      <td>427064.0</td>\n",
              "      <td>7.3</td>\n",
              "    </tr>\n",
              "    <tr>\n",
              "      <th>1</th>\n",
              "      <td>308325.0</td>\n",
              "      <td>7.1</td>\n",
              "    </tr>\n",
              "    <tr>\n",
              "      <th>2</th>\n",
              "      <td>386006.0</td>\n",
              "      <td>6.9</td>\n",
              "    </tr>\n",
              "    <tr>\n",
              "      <th>3</th>\n",
              "      <td>423849.0</td>\n",
              "      <td>7.4</td>\n",
              "    </tr>\n",
              "    <tr>\n",
              "      <th>4</th>\n",
              "      <td>100967.0</td>\n",
              "      <td>6.5</td>\n",
              "    </tr>\n",
              "  </tbody>\n",
              "</table>\n",
              "</div>\n",
              "      <button class=\"colab-df-convert\" onclick=\"convertToInteractive('df-fd323e17-2eac-43f2-919d-30e8cff867cc')\"\n",
              "              title=\"Convert this dataframe to an interactive table.\"\n",
              "              style=\"display:none;\">\n",
              "        \n",
              "  <svg xmlns=\"http://www.w3.org/2000/svg\" height=\"24px\"viewBox=\"0 0 24 24\"\n",
              "       width=\"24px\">\n",
              "    <path d=\"M0 0h24v24H0V0z\" fill=\"none\"/>\n",
              "    <path d=\"M18.56 5.44l.94 2.06.94-2.06 2.06-.94-2.06-.94-.94-2.06-.94 2.06-2.06.94zm-11 1L8.5 8.5l.94-2.06 2.06-.94-2.06-.94L8.5 2.5l-.94 2.06-2.06.94zm10 10l.94 2.06.94-2.06 2.06-.94-2.06-.94-.94-2.06-.94 2.06-2.06.94z\"/><path d=\"M17.41 7.96l-1.37-1.37c-.4-.4-.92-.59-1.43-.59-.52 0-1.04.2-1.43.59L10.3 9.45l-7.72 7.72c-.78.78-.78 2.05 0 2.83L4 21.41c.39.39.9.59 1.41.59.51 0 1.02-.2 1.41-.59l7.78-7.78 2.81-2.81c.8-.78.8-2.07 0-2.86zM5.41 20L4 18.59l7.72-7.72 1.47 1.35L5.41 20z\"/>\n",
              "  </svg>\n",
              "      </button>\n",
              "      \n",
              "  <style>\n",
              "    .colab-df-container {\n",
              "      display:flex;\n",
              "      flex-wrap:wrap;\n",
              "      gap: 12px;\n",
              "    }\n",
              "\n",
              "    .colab-df-convert {\n",
              "      background-color: #E8F0FE;\n",
              "      border: none;\n",
              "      border-radius: 50%;\n",
              "      cursor: pointer;\n",
              "      display: none;\n",
              "      fill: #1967D2;\n",
              "      height: 32px;\n",
              "      padding: 0 0 0 0;\n",
              "      width: 32px;\n",
              "    }\n",
              "\n",
              "    .colab-df-convert:hover {\n",
              "      background-color: #E2EBFA;\n",
              "      box-shadow: 0px 1px 2px rgba(60, 64, 67, 0.3), 0px 1px 3px 1px rgba(60, 64, 67, 0.15);\n",
              "      fill: #174EA6;\n",
              "    }\n",
              "\n",
              "    [theme=dark] .colab-df-convert {\n",
              "      background-color: #3B4455;\n",
              "      fill: #D2E3FC;\n",
              "    }\n",
              "\n",
              "    [theme=dark] .colab-df-convert:hover {\n",
              "      background-color: #434B5C;\n",
              "      box-shadow: 0px 1px 3px 1px rgba(0, 0, 0, 0.15);\n",
              "      filter: drop-shadow(0px 1px 2px rgba(0, 0, 0, 0.3));\n",
              "      fill: #FFFFFF;\n",
              "    }\n",
              "  </style>\n",
              "\n",
              "      <script>\n",
              "        const buttonEl =\n",
              "          document.querySelector('#df-fd323e17-2eac-43f2-919d-30e8cff867cc button.colab-df-convert');\n",
              "        buttonEl.style.display =\n",
              "          google.colab.kernel.accessAllowed ? 'block' : 'none';\n",
              "\n",
              "        async function convertToInteractive(key) {\n",
              "          const element = document.querySelector('#df-fd323e17-2eac-43f2-919d-30e8cff867cc');\n",
              "          const dataTable =\n",
              "            await google.colab.kernel.invokeFunction('convertToInteractive',\n",
              "                                                     [key], {});\n",
              "          if (!dataTable) return;\n",
              "\n",
              "          const docLinkHtml = 'Like what you see? Visit the ' +\n",
              "            '<a target=\"_blank\" href=https://colab.research.google.com/notebooks/data_table.ipynb>data table notebook</a>'\n",
              "            + ' to learn more about interactive tables.';\n",
              "          element.innerHTML = '';\n",
              "          dataTable['output_type'] = 'display_data';\n",
              "          await google.colab.output.renderOutput(dataTable, element);\n",
              "          const docLink = document.createElement('div');\n",
              "          docLink.innerHTML = docLinkHtml;\n",
              "          element.appendChild(docLink);\n",
              "        }\n",
              "      </script>\n",
              "    </div>\n",
              "  </div>\n",
              "  "
            ]
          },
          "metadata": {},
          "execution_count": 21
        }
      ]
    },
    {
      "cell_type": "code",
      "source": [
        "plt.title(\"Income Vs Life satisfaction value\")\n",
        "plt.xlabel(\"Income\")\n",
        "plt.ylabel(\"Life satisfaction value\")\n",
        "plt.scatter(df.X, df.Y, color=\"red\",marker='^')\n",
        "plt.plot(df.X, yest, color='blue')\n",
        "plt.show()#does not show the data type along with scatterplot"
      ],
      "metadata": {
        "colab": {
          "base_uri": "https://localhost:8080/",
          "height": 295
        },
        "id": "_YLQA09NfPco",
        "outputId": "b2c77f08-e110-4125-dfe4-9b01deb0ba56"
      },
      "execution_count": null,
      "outputs": [
        {
          "output_type": "display_data",
          "data": {
            "text/plain": [
              "<Figure size 432x288 with 1 Axes>"
            ],
            "image/png": "[encoded data removed]"
          },
          "metadata": {
            "needs_background": "light"
          }
        }
      ]
    },
    {
      "cell_type": "markdown",
      "source": [
        "Using Statsmodels module"
      ],
      "metadata": {
        "id": "Fj-P55zf2MdO"
      }
    },
    {
      "cell_type": "code",
      "source": [
        "x= sm.add_constant(x) #This is the intercept that has to be added to create the model"
      ],
      "metadata": {
        "id": "xOYSM7tP2LJy"
      },
      "execution_count": null,
      "outputs": []
    },
    {
      "cell_type": "code",
      "source": [
        "model= sm.OLS(y, x) # create the model\n",
        "results = model.fit() #fit the model"
      ],
      "metadata": {
        "id": "5EGJG3d32LGg"
      },
      "execution_count": null,
      "outputs": []
    },
    {
      "cell_type": "code",
      "source": [
        "print(results.summary())#Obtain the results of regression"
      ],
      "metadata": {
        "colab": {
          "base_uri": "https://localhost:8080/"
        },
        "id": "PB707Q9c2LDK",
        "outputId": "3ff45dbb-27cf-4223-8634-61d56c268da3"
      },
      "execution_count": null,
      "outputs": [
        {
          "output_type": "stream",
          "name": "stdout",
          "text": [
            "                            OLS Regression Results                            \n",
            "==============================================================================\n",
            "Dep. Variable:                      Y   R-squared:                       0.058\n",
            "Model:                            OLS   Adj. R-squared:                  0.033\n",
            "Method:                 Least Squares   F-statistic:                     2.383\n",
            "Date:                Sun, 14 Aug 2022   Prob (F-statistic):              0.131\n",
            "Time:                        09:31:52   Log-Likelihood:                -44.266\n",
            "No. Observations:                  41   AIC:                             92.53\n",
            "Df Residuals:                      39   BIC:                             95.96\n",
            "Df Model:                           1                                         \n",
            "Covariance Type:            nonrobust                                         \n",
            "==============================================================================\n",
            "                 coef    std err          t      P>|t|      [0.025      0.975]\n",
            "------------------------------------------------------------------------------\n",
            "const          6.1609      0.267     23.042      0.000       5.620       6.702\n",
            "X           1.296e-06    8.4e-07      1.544      0.131   -4.02e-07    2.99e-06\n",
            "==============================================================================\n",
            "Omnibus:                        0.276   Durbin-Watson:                   1.498\n",
            "Prob(Omnibus):                  0.871   Jarque-Bera (JB):                0.465\n",
            "Skew:                          -0.097   Prob(JB):                        0.792\n",
            "Kurtosis:                       2.516   Cond. No.                     7.46e+05\n",
            "==============================================================================\n",
            "\n",
            "Warnings:\n",
            "[1] Standard Errors assume that the covariance matrix of the errors is correctly specified.\n",
            "[2] The condition number is large, 7.46e+05. This might indicate that there are\n",
            "strong multicollinearity or other numerical problems.\n"
          ]
        }
      ]
    },
    {
      "cell_type": "markdown",
      "source": [
        "Understanding OLS Regression Results\n",
        "\n",
        "\n",
        "*   R-squared is the measurement of how much of the independent variable is explained by changes in our dependent variables. In percentage terms, 0.338 would mean our model explains 33.8% of the change in 'Dependent variable-Life Satisfaction’\n",
        "\n",
        "*  AIC and BIC are both used to compare the efficacy of models in the process of linear regression, using a penalty system for measuring multiple variables. These numbers are used for feature selection of variables.\n",
        "\n",
        "\n"
      ],
      "metadata": {
        "id": "3WkxG4unYcMz"
      }
    },
    {
      "cell_type": "markdown",
      "source": [
        "# What is OLS?\n",
        "Ordinary Least Squares regression (OLS) is a common technique for estimating coefficients of linear regression equations which describe the relationship between one or more independent quantitative variables and a dependent variable (simple or multiple linear regression). Least squares stand for the minimum squares error (SSE). M"
      ],
      "metadata": {
        "id": "x3jKQLsIrpRi"
      }
    },
    {
      "cell_type": "code",
      "source": [
        "print(\"Parameters: \", results.params)\n",
        "print(\"R2: \", results.rsquared)"
      ],
      "metadata": {
        "colab": {
          "base_uri": "https://localhost:8080/"
        },
        "id": "92tLIFlgSMYP",
        "outputId": "c2a0cc91-6e50-4329-d9a5-dad6e3293ae1"
      },
      "execution_count": null,
      "outputs": [
        {
          "output_type": "stream",
          "name": "stdout",
          "text": [
            "Parameters:  const    6.160851\n",
            "X        0.000001\n",
            "dtype: float64\n",
            "R2:  0.057582775796690355\n"
          ]
        }
      ]
    },
    {
      "cell_type": "code",
      "source": [
        "results.ssr #Method to obtain SSR"
      ],
      "metadata": {
        "colab": {
          "base_uri": "https://localhost:8080/"
        },
        "id": "859e8fRG2K_-",
        "outputId": "6291cfcd-935a-42ed-d0e3-e45b99113c5d"
      },
      "execution_count": null,
      "outputs": [
        {
          "output_type": "execute_result",
          "data": {
            "text/plain": [
              "20.801216858903093"
            ]
          },
          "metadata": {},
          "execution_count": 27
        }
      ]
    },
    {
      "cell_type": "code",
      "source": [
        "#calculate sse\n",
        "sse = np.sum((results.fittedvalues - df.Y)**2)\n",
        "print(\"SSE =\", sse)\n",
        "#calculate ssr\n",
        "ssr = np.sum((results.fittedvalues - df.Y.mean())**2)\n",
        "print(\"SSR = \", ssr)\n",
        "#calculate sst\n",
        "sst = ssr + sse\n",
        "print(\"SST = \", sst)"
      ],
      "metadata": {
        "colab": {
          "base_uri": "https://localhost:8080/"
        },
        "id": "QURsy7_52K42",
        "outputId": "5493ffdc-2a91-4b1f-ee2f-8c4ef521f660"
      },
      "execution_count": null,
      "outputs": [
        {
          "output_type": "stream",
          "name": "stdout",
          "text": [
            "SSE = 20.801216858903096\n",
            "SSR =  1.2709782630481168\n",
            "SST =  22.072195121951214\n"
          ]
        }
      ]
    },
    {
      "cell_type": "code",
      "source": [
        "from sklearn.metrics import mean_squared_error\n",
        "MSE=mean_squared_error(df.Y,yest)\n",
        "print(MSE)"
      ],
      "metadata": {
        "colab": {
          "base_uri": "https://localhost:8080/"
        },
        "id": "2az9AV8z7DSk",
        "outputId": "b739ae5a-cfb3-4acc-a265-3713108d3714"
      },
      "execution_count": null,
      "outputs": [
        {
          "output_type": "stream",
          "name": "stdout",
          "text": [
            "0.5073467526561729\n"
          ]
        }
      ]
    },
    {
      "cell_type": "markdown",
      "source": [
        "n=1 for linear regression"
      ],
      "metadata": {
        "id": "3sINfqJhXY2c"
      }
    },
    {
      "cell_type": "markdown",
      "source": [
        "Manually calculating F value"
      ],
      "metadata": {
        "id": "KfussYX5eyXD"
      }
    },
    {
      "cell_type": "code",
      "source": [
        "#MSR=SSR/1\n",
        "MSR=ssr\n",
        "F=MSR/MSE\n",
        "print(\"Fcal=\",F)"
      ],
      "metadata": {
        "colab": {
          "base_uri": "https://localhost:8080/"
        },
        "id": "p8dmZKdO9zA0",
        "outputId": "3df02808-b5e6-4ca0-ac18-7f3bed9b57d1"
      },
      "execution_count": null,
      "outputs": [
        {
          "output_type": "stream",
          "name": "stdout",
          "text": [
            "Fcal= 2.505147133383653\n"
          ]
        }
      ]
    },
    {
      "cell_type": "markdown",
      "source": [
        "\n",
        "\n",
        "---\n",
        "\n"
      ],
      "metadata": {
        "id": "1V23B4XJe3hi"
      }
    },
    {
      "cell_type": "code",
      "source": [
        "#finding Fcritical value\n",
        "import scipy.stats\n",
        "#•\tNumerator degree of freedom is k, where k is number of independent variables\n",
        "#•\tDenominator degree of freedom is n-k-1\n",
        "n=len(df. X) \n",
        "k=1\n",
        "scipy.stats.f.ppf(q=1-.05, dfn=k, dfd=n-k-1)\n",
        "#where:\n",
        "#q: The significance level to use\n",
        "#dfn: The numerator degrees of freedom\n",
        "#dfd: The denominator degrees of freedom'''\n"
      ],
      "metadata": {
        "colab": {
          "base_uri": "https://localhost:8080/"
        },
        "id": "yluUwKEybqFJ",
        "outputId": "007be90d-cd15-4c75-c828-709d5340e8b4"
      },
      "execution_count": null,
      "outputs": [
        {
          "output_type": "execute_result",
          "data": {
            "text/plain": [
              "4.091278557999154"
            ]
          },
          "metadata": {},
          "execution_count": 31
        }
      ]
    },
    {
      "cell_type": "code",
      "source": [
        "#F-statistic=2.383\n",
        "#from OLS model result"
      ],
      "metadata": {
        "id": "Y-j4cogPdl3q"
      },
      "execution_count": null,
      "outputs": []
    },
    {
      "cell_type": "markdown",
      "source": [
        "b.\tConstruct the ANOVA table"
      ],
      "metadata": {
        "id": "ak0pAoJi5ILd"
      }
    },
    {
      "cell_type": "code",
      "source": [
        "from statsmodels.formula.api import ols"
      ],
      "metadata": {
        "id": "5MN9MknP2KhF"
      },
      "execution_count": null,
      "outputs": []
    },
    {
      "cell_type": "markdown",
      "source": [
        "Ordinary Least Squares (OLS)"
      ],
      "metadata": {
        "id": "yguk4fwD5Svr"
      }
    },
    {
      "cell_type": "code",
      "source": [
        "model=ols(\"df.X ~ df.Y\",data=df).fit()\n",
        "aov_table = sm.stats.anova_lm(model)\n",
        "aov_table"
      ],
      "metadata": {
        "colab": {
          "base_uri": "https://localhost:8080/",
          "height": 112
        },
        "id": "UzFni5RO5a_v",
        "outputId": "0b3c6c2a-f229-4e62-c02a-cab9a593c079"
      },
      "execution_count": null,
      "outputs": [
        {
          "output_type": "execute_result",
          "data": {
            "text/plain": [
              "            df        sum_sq       mean_sq         F    PR(>F)\n",
              "df.Y       1.0  4.356379e+10  4.356379e+10  2.382945  0.130743\n",
              "Residual  39.0  7.129782e+11  1.828149e+10       NaN       NaN"
            ],
            "text/html": [
              "\n",
              "  <div id=\"df-41d78201-5e5c-4453-978b-a6d0ad737767\">\n",
              "    <div class=\"colab-df-container\">\n",
              "      <div>\n",
              "<style scoped>\n",
              "    .dataframe tbody tr th:only-of-type {\n",
              "        vertical-align: middle;\n",
              "    }\n",
              "\n",
              "    .dataframe tbody tr th {\n",
              "        vertical-align: top;\n",
              "    }\n",
              "\n",
              "    .dataframe thead th {\n",
              "        text-align: right;\n",
              "    }\n",
              "</style>\n",
              "<table border=\"1\" class=\"dataframe\">\n",
              "  <thead>\n",
              "    <tr style=\"text-align: right;\">\n",
              "      <th></th>\n",
              "      <th>df</th>\n",
              "      <th>sum_sq</th>\n",
              "      <th>mean_sq</th>\n",
              "      <th>F</th>\n",
              "      <th>PR(&gt;F)</th>\n",
              "    </tr>\n",
              "  </thead>\n",
              "  <tbody>\n",
              "    <tr>\n",
              "      <th>df.Y</th>\n",
              "      <td>1.0</td>\n",
              "      <td>4.356379e+10</td>\n",
              "      <td>4.356379e+10</td>\n",
              "      <td>2.382945</td>\n",
              "      <td>0.130743</td>\n",
              "    </tr>\n",
              "    <tr>\n",
              "      <th>Residual</th>\n",
              "      <td>39.0</td>\n",
              "      <td>7.129782e+11</td>\n",
              "      <td>1.828149e+10</td>\n",
              "      <td>NaN</td>\n",
              "      <td>NaN</td>\n",
              "    </tr>\n",
              "  </tbody>\n",
              "</table>\n",
              "</div>\n",
              "      <button class=\"colab-df-convert\" onclick=\"convertToInteractive('df-41d78201-5e5c-4453-978b-a6d0ad737767')\"\n",
              "              title=\"Convert this dataframe to an interactive table.\"\n",
              "              style=\"display:none;\">\n",
              "        \n",
              "  <svg xmlns=\"http://www.w3.org/2000/svg\" height=\"24px\"viewBox=\"0 0 24 24\"\n",
              "       width=\"24px\">\n",
              "    <path d=\"M0 0h24v24H0V0z\" fill=\"none\"/>\n",
              "    <path d=\"M18.56 5.44l.94 2.06.94-2.06 2.06-.94-2.06-.94-.94-2.06-.94 2.06-2.06.94zm-11 1L8.5 8.5l.94-2.06 2.06-.94-2.06-.94L8.5 2.5l-.94 2.06-2.06.94zm10 10l.94 2.06.94-2.06 2.06-.94-2.06-.94-.94-2.06-.94 2.06-2.06.94z\"/><path d=\"M17.41 7.96l-1.37-1.37c-.4-.4-.92-.59-1.43-.59-.52 0-1.04.2-1.43.59L10.3 9.45l-7.72 7.72c-.78.78-.78 2.05 0 2.83L4 21.41c.39.39.9.59 1.41.59.51 0 1.02-.2 1.41-.59l7.78-7.78 2.81-2.81c.8-.78.8-2.07 0-2.86zM5.41 20L4 18.59l7.72-7.72 1.47 1.35L5.41 20z\"/>\n",
              "  </svg>\n",
              "      </button>\n",
              "      \n",
              "  <style>\n",
              "    .colab-df-container {\n",
              "      display:flex;\n",
              "      flex-wrap:wrap;\n",
              "      gap: 12px;\n",
              "    }\n",
              "\n",
              "    .colab-df-convert {\n",
              "      background-color: #E8F0FE;\n",
              "      border: none;\n",
              "      border-radius: 50%;\n",
              "      cursor: pointer;\n",
              "      display: none;\n",
              "      fill: #1967D2;\n",
              "      height: 32px;\n",
              "      padding: 0 0 0 0;\n",
              "      width: 32px;\n",
              "    }\n",
              "\n",
              "    .colab-df-convert:hover {\n",
              "      background-color: #E2EBFA;\n",
              "      box-shadow: 0px 1px 2px rgba(60, 64, 67, 0.3), 0px 1px 3px 1px rgba(60, 64, 67, 0.15);\n",
              "      fill: #174EA6;\n",
              "    }\n",
              "\n",
              "    [theme=dark] .colab-df-convert {\n",
              "      background-color: #3B4455;\n",
              "      fill: #D2E3FC;\n",
              "    }\n",
              "\n",
              "    [theme=dark] .colab-df-convert:hover {\n",
              "      background-color: #434B5C;\n",
              "      box-shadow: 0px 1px 3px 1px rgba(0, 0, 0, 0.15);\n",
              "      filter: drop-shadow(0px 1px 2px rgba(0, 0, 0, 0.3));\n",
              "      fill: #FFFFFF;\n",
              "    }\n",
              "  </style>\n",
              "\n",
              "      <script>\n",
              "        const buttonEl =\n",
              "          document.querySelector('#df-41d78201-5e5c-4453-978b-a6d0ad737767 button.colab-df-convert');\n",
              "        buttonEl.style.display =\n",
              "          google.colab.kernel.accessAllowed ? 'block' : 'none';\n",
              "\n",
              "        async function convertToInteractive(key) {\n",
              "          const element = document.querySelector('#df-41d78201-5e5c-4453-978b-a6d0ad737767');\n",
              "          const dataTable =\n",
              "            await google.colab.kernel.invokeFunction('convertToInteractive',\n",
              "                                                     [key], {});\n",
              "          if (!dataTable) return;\n",
              "\n",
              "          const docLinkHtml = 'Like what you see? Visit the ' +\n",
              "            '<a target=\"_blank\" href=https://colab.research.google.com/notebooks/data_table.ipynb>data table notebook</a>'\n",
              "            + ' to learn more about interactive tables.';\n",
              "          element.innerHTML = '';\n",
              "          dataTable['output_type'] = 'display_data';\n",
              "          await google.colab.output.renderOutput(dataTable, element);\n",
              "          const docLink = document.createElement('div');\n",
              "          docLink.innerHTML = docLinkHtml;\n",
              "          element.appendChild(docLink);\n",
              "        }\n",
              "      </script>\n",
              "    </div>\n",
              "  </div>\n",
              "  "
            ]
          },
          "metadata": {},
          "execution_count": 34
        }
      ]
    },
    {
      "cell_type": "markdown",
      "source": [
        "p-value (listed as Prob F-statistic)=0.131\n",
        "\n",
        "---\n",
        "\n",
        "If the F-statistic > F-critical or\n",
        "if the Prob (F-statistic) is approximately 0 then we reject the null hypothesis"
      ],
      "metadata": {
        "id": "TpkNzoC1FXNy"
      }
    },
    {
      "cell_type": "markdown",
      "source": [
        "Observation from ANOVA table\n",
        "\n",
        "*   F is the F-statistic value\n",
        "*   PR is the p-value\n",
        "\n",
        "\n"
      ],
      "metadata": {
        "id": "MEaoumzKIbH5"
      }
    },
    {
      "cell_type": "markdown",
      "source": [
        "Theory\n",
        "\n",
        "*   If the p-value is below 0.05, we reject the null hypothesis \n",
        "\n",
        "\n"
      ],
      "metadata": {
        "id": "djcfbeycIvmZ"
      }
    },
    {
      "cell_type": "markdown",
      "source": [
        "**OBSERVATION**"
      ],
      "metadata": {
        "id": "Ks2CM3tmfFfi"
      }
    },
    {
      "cell_type": "markdown",
      "source": [
        "\tComment on the following on the basis of t statistic and f statistic\n",
        "\t\n"
      ],
      "metadata": {
        "id": "Ls9ZNCwB4zX9"
      }
    },
    {
      "cell_type": "markdown",
      "source": [
        "“Is there sufficient evidence to indicate that life satisfaction if linearly related to the amount of household net income?” Use α=0.5\n",
        "\n",
        "\n"
      ],
      "metadata": {
        "id": "zow3hdOh6Zal"
      }
    },
    {
      "cell_type": "markdown",
      "source": [
        "---\n",
        "---\n",
        "Interpreting p-value:\n",
        " \n",
        "*   We have to compare the p-value to our chosen alpha, in this case, 0.05.\n",
        "Our p-value of 0.130743 is larger than 0.05, so we cannot reject our null hypothesis \n",
        "\n",
        "\n",
        "*  F-statistic < F-critical ,hence we accept null hypothesis and we can say that there is  sufficient evidence to indicate that life satisfaction if linearly related to the amount of household net income\n",
        "\n",
        "\n",
        "\n",
        "\n",
        "\n"
      ],
      "metadata": {
        "id": "fBxluwcFJKIF"
      }
    },
    {
      "cell_type": "markdown",
      "source": [
        "**CONCLUSION**\n",
        "\n",
        "---\n",
        "\n",
        "\n",
        "Life  Satisfaction value is linearly related to Income"
      ],
      "metadata": {
        "id": "fXK-i9ahBkgX"
      }
    }
  ]
}